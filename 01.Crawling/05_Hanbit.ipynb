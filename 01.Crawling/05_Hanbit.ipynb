{
  "nbformat": 4,
  "nbformat_minor": 0,
  "metadata": {
    "colab": {
      "name": "05.Hanbit.ipynb",
      "provenance": [],
      "collapsed_sections": []
    },
    "kernelspec": {
      "name": "python3",
      "display_name": "Python 3"
    },
    "language_info": {
      "name": "python"
    },
    "widgets": {
      "application/vnd.jupyter.widget-state+json": {
        "09b6dca0dcb2469f89c5f098b6e5735a": {
          "model_module": "@jupyter-widgets/controls",
          "model_name": "HBoxModel",
          "model_module_version": "1.5.0",
          "state": {
            "_dom_classes": [],
            "_model_module": "@jupyter-widgets/controls",
            "_model_module_version": "1.5.0",
            "_model_name": "HBoxModel",
            "_view_count": null,
            "_view_module": "@jupyter-widgets/controls",
            "_view_module_version": "1.5.0",
            "_view_name": "HBoxView",
            "box_style": "",
            "children": [
              "IPY_MODEL_1d1167cf906249d7bec1fead954d51d2",
              "IPY_MODEL_ec56758461be4029910b4d43dd41eff3",
              "IPY_MODEL_5ddd0f8eaa3747caa59c0dc4234779ec"
            ],
            "layout": "IPY_MODEL_4150ffa3e6c14e9a87a08e4bd43af9a8"
          }
        },
        "1d1167cf906249d7bec1fead954d51d2": {
          "model_module": "@jupyter-widgets/controls",
          "model_name": "HTMLModel",
          "model_module_version": "1.5.0",
          "state": {
            "_dom_classes": [],
            "_model_module": "@jupyter-widgets/controls",
            "_model_module_version": "1.5.0",
            "_model_name": "HTMLModel",
            "_view_count": null,
            "_view_module": "@jupyter-widgets/controls",
            "_view_module_version": "1.5.0",
            "_view_name": "HTMLView",
            "description": "",
            "description_tooltip": null,
            "layout": "IPY_MODEL_b60a9945dfee4f8d897d14edf92adc42",
            "placeholder": "​",
            "style": "IPY_MODEL_20362a35ea49465eababc107329885dc",
            "value": "100%"
          }
        },
        "ec56758461be4029910b4d43dd41eff3": {
          "model_module": "@jupyter-widgets/controls",
          "model_name": "FloatProgressModel",
          "model_module_version": "1.5.0",
          "state": {
            "_dom_classes": [],
            "_model_module": "@jupyter-widgets/controls",
            "_model_module_version": "1.5.0",
            "_model_name": "FloatProgressModel",
            "_view_count": null,
            "_view_module": "@jupyter-widgets/controls",
            "_view_module_version": "1.5.0",
            "_view_name": "ProgressView",
            "bar_style": "success",
            "description": "",
            "description_tooltip": null,
            "layout": "IPY_MODEL_0d6cfe0658094ae0964c6b69a4f0cea7",
            "max": 10,
            "min": 0,
            "orientation": "horizontal",
            "style": "IPY_MODEL_b23c24b0ac9c47e7b0dfe4537fa3f3ba",
            "value": 10
          }
        },
        "5ddd0f8eaa3747caa59c0dc4234779ec": {
          "model_module": "@jupyter-widgets/controls",
          "model_name": "HTMLModel",
          "model_module_version": "1.5.0",
          "state": {
            "_dom_classes": [],
            "_model_module": "@jupyter-widgets/controls",
            "_model_module_version": "1.5.0",
            "_model_name": "HTMLModel",
            "_view_count": null,
            "_view_module": "@jupyter-widgets/controls",
            "_view_module_version": "1.5.0",
            "_view_name": "HTMLView",
            "description": "",
            "description_tooltip": null,
            "layout": "IPY_MODEL_8cce3964b0f74ad48f617e703f805b1d",
            "placeholder": "​",
            "style": "IPY_MODEL_474bb4cf6e4b40cb8b2c3acd9323a573",
            "value": " 10/10 [05:43&lt;00:00, 34.10s/it]"
          }
        },
        "4150ffa3e6c14e9a87a08e4bd43af9a8": {
          "model_module": "@jupyter-widgets/base",
          "model_name": "LayoutModel",
          "model_module_version": "1.2.0",
          "state": {
            "_model_module": "@jupyter-widgets/base",
            "_model_module_version": "1.2.0",
            "_model_name": "LayoutModel",
            "_view_count": null,
            "_view_module": "@jupyter-widgets/base",
            "_view_module_version": "1.2.0",
            "_view_name": "LayoutView",
            "align_content": null,
            "align_items": null,
            "align_self": null,
            "border": null,
            "bottom": null,
            "display": null,
            "flex": null,
            "flex_flow": null,
            "grid_area": null,
            "grid_auto_columns": null,
            "grid_auto_flow": null,
            "grid_auto_rows": null,
            "grid_column": null,
            "grid_gap": null,
            "grid_row": null,
            "grid_template_areas": null,
            "grid_template_columns": null,
            "grid_template_rows": null,
            "height": null,
            "justify_content": null,
            "justify_items": null,
            "left": null,
            "margin": null,
            "max_height": null,
            "max_width": null,
            "min_height": null,
            "min_width": null,
            "object_fit": null,
            "object_position": null,
            "order": null,
            "overflow": null,
            "overflow_x": null,
            "overflow_y": null,
            "padding": null,
            "right": null,
            "top": null,
            "visibility": null,
            "width": null
          }
        },
        "b60a9945dfee4f8d897d14edf92adc42": {
          "model_module": "@jupyter-widgets/base",
          "model_name": "LayoutModel",
          "model_module_version": "1.2.0",
          "state": {
            "_model_module": "@jupyter-widgets/base",
            "_model_module_version": "1.2.0",
            "_model_name": "LayoutModel",
            "_view_count": null,
            "_view_module": "@jupyter-widgets/base",
            "_view_module_version": "1.2.0",
            "_view_name": "LayoutView",
            "align_content": null,
            "align_items": null,
            "align_self": null,
            "border": null,
            "bottom": null,
            "display": null,
            "flex": null,
            "flex_flow": null,
            "grid_area": null,
            "grid_auto_columns": null,
            "grid_auto_flow": null,
            "grid_auto_rows": null,
            "grid_column": null,
            "grid_gap": null,
            "grid_row": null,
            "grid_template_areas": null,
            "grid_template_columns": null,
            "grid_template_rows": null,
            "height": null,
            "justify_content": null,
            "justify_items": null,
            "left": null,
            "margin": null,
            "max_height": null,
            "max_width": null,
            "min_height": null,
            "min_width": null,
            "object_fit": null,
            "object_position": null,
            "order": null,
            "overflow": null,
            "overflow_x": null,
            "overflow_y": null,
            "padding": null,
            "right": null,
            "top": null,
            "visibility": null,
            "width": null
          }
        },
        "20362a35ea49465eababc107329885dc": {
          "model_module": "@jupyter-widgets/controls",
          "model_name": "DescriptionStyleModel",
          "model_module_version": "1.5.0",
          "state": {
            "_model_module": "@jupyter-widgets/controls",
            "_model_module_version": "1.5.0",
            "_model_name": "DescriptionStyleModel",
            "_view_count": null,
            "_view_module": "@jupyter-widgets/base",
            "_view_module_version": "1.2.0",
            "_view_name": "StyleView",
            "description_width": ""
          }
        },
        "0d6cfe0658094ae0964c6b69a4f0cea7": {
          "model_module": "@jupyter-widgets/base",
          "model_name": "LayoutModel",
          "model_module_version": "1.2.0",
          "state": {
            "_model_module": "@jupyter-widgets/base",
            "_model_module_version": "1.2.0",
            "_model_name": "LayoutModel",
            "_view_count": null,
            "_view_module": "@jupyter-widgets/base",
            "_view_module_version": "1.2.0",
            "_view_name": "LayoutView",
            "align_content": null,
            "align_items": null,
            "align_self": null,
            "border": null,
            "bottom": null,
            "display": null,
            "flex": null,
            "flex_flow": null,
            "grid_area": null,
            "grid_auto_columns": null,
            "grid_auto_flow": null,
            "grid_auto_rows": null,
            "grid_column": null,
            "grid_gap": null,
            "grid_row": null,
            "grid_template_areas": null,
            "grid_template_columns": null,
            "grid_template_rows": null,
            "height": null,
            "justify_content": null,
            "justify_items": null,
            "left": null,
            "margin": null,
            "max_height": null,
            "max_width": null,
            "min_height": null,
            "min_width": null,
            "object_fit": null,
            "object_position": null,
            "order": null,
            "overflow": null,
            "overflow_x": null,
            "overflow_y": null,
            "padding": null,
            "right": null,
            "top": null,
            "visibility": null,
            "width": null
          }
        },
        "b23c24b0ac9c47e7b0dfe4537fa3f3ba": {
          "model_module": "@jupyter-widgets/controls",
          "model_name": "ProgressStyleModel",
          "model_module_version": "1.5.0",
          "state": {
            "_model_module": "@jupyter-widgets/controls",
            "_model_module_version": "1.5.0",
            "_model_name": "ProgressStyleModel",
            "_view_count": null,
            "_view_module": "@jupyter-widgets/base",
            "_view_module_version": "1.2.0",
            "_view_name": "StyleView",
            "bar_color": null,
            "description_width": ""
          }
        },
        "8cce3964b0f74ad48f617e703f805b1d": {
          "model_module": "@jupyter-widgets/base",
          "model_name": "LayoutModel",
          "model_module_version": "1.2.0",
          "state": {
            "_model_module": "@jupyter-widgets/base",
            "_model_module_version": "1.2.0",
            "_model_name": "LayoutModel",
            "_view_count": null,
            "_view_module": "@jupyter-widgets/base",
            "_view_module_version": "1.2.0",
            "_view_name": "LayoutView",
            "align_content": null,
            "align_items": null,
            "align_self": null,
            "border": null,
            "bottom": null,
            "display": null,
            "flex": null,
            "flex_flow": null,
            "grid_area": null,
            "grid_auto_columns": null,
            "grid_auto_flow": null,
            "grid_auto_rows": null,
            "grid_column": null,
            "grid_gap": null,
            "grid_row": null,
            "grid_template_areas": null,
            "grid_template_columns": null,
            "grid_template_rows": null,
            "height": null,
            "justify_content": null,
            "justify_items": null,
            "left": null,
            "margin": null,
            "max_height": null,
            "max_width": null,
            "min_height": null,
            "min_width": null,
            "object_fit": null,
            "object_position": null,
            "order": null,
            "overflow": null,
            "overflow_x": null,
            "overflow_y": null,
            "padding": null,
            "right": null,
            "top": null,
            "visibility": null,
            "width": null
          }
        },
        "474bb4cf6e4b40cb8b2c3acd9323a573": {
          "model_module": "@jupyter-widgets/controls",
          "model_name": "DescriptionStyleModel",
          "model_module_version": "1.5.0",
          "state": {
            "_model_module": "@jupyter-widgets/controls",
            "_model_module_version": "1.5.0",
            "_model_name": "DescriptionStyleModel",
            "_view_count": null,
            "_view_module": "@jupyter-widgets/base",
            "_view_module_version": "1.2.0",
            "_view_name": "StyleView",
            "description_width": ""
          }
        }
      }
    }
  },
  "cells": [
    {
      "cell_type": "markdown",
      "source": [
        "# 한빛아카데미 - 새로나온 책 10페이지 크롤링\n",
        "- url =https://www.hanbit.co.kr/academy/books/new_book_list.html\n",
        "- 제목,저자,출간일,쪽수,가격,역자 정보 가져오기\n"
      ],
      "metadata": {
        "id": "PmPh8SZaNwKW"
      }
    },
    {
      "cell_type": "code",
      "execution_count": 1,
      "metadata": {
        "id": "fQn2Y4TXNpZH"
      },
      "outputs": [],
      "source": [
        "import requests\n",
        "from bs4 import BeautifulSoup\n",
        "import pandas as pd\n",
        "from tqdm.notebook import tqdm\n"
      ]
    },
    {
      "cell_type": "code",
      "source": [
        "base_url = 'https://www.hanbit.co.kr'\n",
        "sub_url = '/academy/books/new_book_list.html'\n",
        "url = base_url + sub_url + '?page=' + str(1)\n",
        "req = requests.get(url)\n",
        "soup = BeautifulSoup(req.text,'html.parser')#문법의 의미를 분석하라 = parser"
      ],
      "metadata": {
        "id": "Z5ZBPkMvOhhp"
      },
      "execution_count": 6,
      "outputs": []
    },
    {
      "cell_type": "markdown",
      "source": [
        "### 1. 찾으려고 하는 데이터 목록 갖고오기"
      ],
      "metadata": {
        "id": "96sfS7ZVRgKy"
      }
    },
    {
      "cell_type": "code",
      "source": [
        "lis = soup.select('li.sub_book_list')\n",
        "len(lis)"
      ],
      "metadata": {
        "colab": {
          "base_uri": "https://localhost:8080/"
        },
        "id": "DR0FzKhyRN3o",
        "outputId": "32508000-1526-4e50-c07f-13a5d2994c27"
      },
      "execution_count": 7,
      "outputs": [
        {
          "output_type": "execute_result",
          "data": {
            "text/plain": [
              "20"
            ]
          },
          "metadata": {},
          "execution_count": 7
        }
      ]
    },
    {
      "cell_type": "markdown",
      "source": [
        "### 2.하나의 원하는 정보 가져오기"
      ],
      "metadata": {
        "id": "0TZydYPkScoB"
      }
    },
    {
      "cell_type": "code",
      "source": [
        "li = lis[0]\n",
        "href = li.find('a')['href']\n",
        "href"
      ],
      "metadata": {
        "colab": {
          "base_uri": "https://localhost:8080/",
          "height": 36
        },
        "id": "SGxNDo5-R-3j",
        "outputId": "8842c803-ce03-4309-fffc-aef80c39c80d"
      },
      "execution_count": 8,
      "outputs": [
        {
          "output_type": "execute_result",
          "data": {
            "text/plain": [
              "'/academy/books/book_view.html?p_code=B8672666879'"
            ],
            "application/vnd.google.colaboratory.intrinsic+json": {
              "type": "string"
            }
          },
          "metadata": {},
          "execution_count": 8
        }
      ]
    },
    {
      "cell_type": "markdown",
      "source": [
        "- sub page로 이동해서 원하는 정보 추출"
      ],
      "metadata": {
        "id": "K4Fm_lD3TM8b"
      }
    },
    {
      "cell_type": "code",
      "source": [
        "sub_req = requests.get(base_url + href)\n",
        "sub_soup = BeautifulSoup(sub_req.text, 'html.parser')"
      ],
      "metadata": {
        "id": "IXr__YJoTKI3"
      },
      "execution_count": 9,
      "outputs": []
    },
    {
      "cell_type": "code",
      "source": [
        "title = sub_soup.select_one('.store_product_info_box > h3').get_text().strip()\n",
        "title"
      ],
      "metadata": {
        "colab": {
          "base_uri": "https://localhost:8080/",
          "height": 36
        },
        "id": "w4zx7A_UUh1R",
        "outputId": "9a5ff413-0402-498a-fe42-bd3bb0dae6f0"
      },
      "execution_count": 13,
      "outputs": [
        {
          "output_type": "execute_result",
          "data": {
            "text/plain": [
              "'STEM CookBook, 문제 해결력을 키우는 기계설계'"
            ],
            "application/vnd.google.colaboratory.intrinsic+json": {
              "type": "string"
            }
          },
          "metadata": {},
          "execution_count": 13
        }
      ]
    },
    {
      "cell_type": "code",
      "source": [
        "info_lis = sub_soup.select('.info_list > li')\n",
        "info_dict = {}\n",
        "for li in info_lis:\n",
        "  key = li.find('strong').get_text().split(' ')[0]\n",
        "  val = li.find('span').get_text().strip()\n",
        "  info_dict[key] = val\n",
        "info_dict"
      ],
      "metadata": {
        "colab": {
          "base_uri": "https://localhost:8080/"
        },
        "id": "6fpkgZSGTsEA",
        "outputId": "d7dc4a5b-6135-4315-bf02-6d3b8ead81e1"
      },
      "execution_count": 15,
      "outputs": [
        {
          "output_type": "execute_result",
          "data": {
            "text/plain": [
              "{'ISBN': '9791156646150',\n",
              " '물류코드': '4615',\n",
              " '저자': '이상범',\n",
              " '출간': '2022-08-05',\n",
              " '페이지': '680 쪽'}"
            ]
          },
          "metadata": {},
          "execution_count": 15
        }
      ]
    },
    {
      "cell_type": "code",
      "source": [
        "author = info_dict['저자']\n",
        "try:\n",
        "  translator = info_dict['번역']\n",
        "except:\n",
        "  translator = '-'\n",
        "date = info_dict['출간']\n",
        "page = int(info_dict['페이지'].split(' ')[0].replace(',',''))\n",
        "author, translator, date, page"
      ],
      "metadata": {
        "colab": {
          "base_uri": "https://localhost:8080/"
        },
        "id": "MeGD5vKgVqdB",
        "outputId": "0b5f5cb9-209e-4df7-d4f9-f963eda99b23"
      },
      "execution_count": 17,
      "outputs": [
        {
          "output_type": "execute_result",
          "data": {
            "text/plain": [
              "('이상범', '-', '2022-08-05', 680)"
            ]
          },
          "metadata": {},
          "execution_count": 17
        }
      ]
    },
    {
      "cell_type": "code",
      "source": [
        "price = int(sub_soup.select_one('.pbr > strong').get_text().replace(',',''))\n",
        "price"
      ],
      "metadata": {
        "colab": {
          "base_uri": "https://localhost:8080/"
        },
        "id": "2W_dfZ7gcIG4",
        "outputId": "3fb067d9-0629-4978-fa25-85e75fc94cd6"
      },
      "execution_count": 22,
      "outputs": [
        {
          "output_type": "execute_result",
          "data": {
            "text/plain": [
              "34000"
            ]
          },
          "metadata": {},
          "execution_count": 22
        }
      ]
    },
    {
      "cell_type": "markdown",
      "source": [
        "### 3. 한 페이지 내 모든 정보 가져오기\n"
      ],
      "metadata": {
        "id": "H7LpCzW1dHqv"
      }
    },
    {
      "cell_type": "code",
      "source": [
        "lines= []\n",
        "for li in lis:\n",
        "  href = li.find('a')['href']\n",
        "  sub_req = requests.get(base_url + href)\n",
        "  sub_soup = BeautifulSoup(sub_req.text, 'html.parser')\n",
        "\n",
        "  title = sub_soup.select_one('.store_product_info_box > h3').get_text().strip()\n",
        "  info_lis = sub_soup.select('.info_list > li')\n",
        "  info_dict = {}\n",
        "  for li in info_lis:\n",
        "    key = li.find('strong').get_text().split(' ')[0]\n",
        "    val = li.find('span').get_text().strip()\n",
        "    info_dict[key] = val\n",
        "\n",
        "  author = info_dict['저자']\n",
        "  try:\n",
        "    translator = info_dict['번역']\n",
        "  except:\n",
        "    translator = '-'\n",
        "  date = info_dict['출간']\n",
        "  page = int(info_dict['페이지'].split(' ')[0].replace(',',''))\n",
        "  price = int(sub_soup.select_one('.pbr > strong').get_text().replace(',',''))\n",
        "  lines.append([title,author,translator,date,page,price])"
      ],
      "metadata": {
        "id": "kWi5Fr2CckuT"
      },
      "execution_count": 23,
      "outputs": []
    },
    {
      "cell_type": "markdown",
      "source": [
        "### 4. 데이터 프레임으로 만들기"
      ],
      "metadata": {
        "id": "UqHKzw6OeEug"
      }
    },
    {
      "cell_type": "code",
      "source": [
        "df = pd.DataFrame(lines, columns=['제목','저자','번역','출간일','쪽수','판매가'])\n",
        "df"
      ],
      "metadata": {
        "colab": {
          "base_uri": "https://localhost:8080/",
          "height": 1000
        },
        "id": "iDao_1a_d6aw",
        "outputId": "75e3295c-41ac-43b1-f21f-b5dcf6c87202"
      },
      "execution_count": 24,
      "outputs": [
        {
          "output_type": "execute_result",
          "data": {
            "text/plain": [
              "                                           제목  \\\n",
              "0             STEM CookBook, 문제 해결력을 키우는 기계설계   \n",
              "1                                    경영분석(6판)   \n",
              "2       IT CookBook, 기초부터 시작하는 PLC : OMRON NX   \n",
              "3            IT CookBook, 원리로 이해하는 전력전자공학(2판)   \n",
              "4            IT CookBook, TCP/IP 소켓 프로그래밍(2판)   \n",
              "5    IT CookBook, 쉽게 배우는 데이터 통신과 컴퓨터 네트워크(3판)   \n",
              "6                    IT CookBook, 우분투 리눅스(3판)   \n",
              "7                                   거시경제학(3판)   \n",
              "8                       실용적 접근 방식의 경영학원론(10판)   \n",
              "9          IT CookBook, C로 시작하는 컴퓨터 프로그래밍(4판)   \n",
              "10                IT CookBook, 인터넷 해킹과 보안(4판)   \n",
              "11       IT CookBook, 파이썬 데이터 분석 for Beginner   \n",
              "12                       IT CookBook, 엑셀 2019   \n",
              "13               IT CookBook, 소프트웨어 공학 이론과 실제   \n",
              "14                공학도라면 반드시 알아야 할 최소한의 수학(8판)   \n",
              "15  IT CookBook, UI/UX 디자인 이론과 실무 with 어도비 XD   \n",
              "16                 STEM@CookBook, 공학 기초수학(2판)   \n",
              "17         STEM@CookBook, Beer의 정역학과 재료역학(3판)   \n",
              "18                              STEIN 푸리에 해석학   \n",
              "19                          미분적분학 : 기초부터 응용까지   \n",
              "\n",
              "                                                   저자                     번역  \\\n",
              "0                                                 이상범                      -   \n",
              "1                                           장영광 , 송치승                      -   \n",
              "2                                           정완보 , 이진호                      -   \n",
              "3                        원충연 , 김영렬 , 이택기 , 류홍제 , 故정용채                      -   \n",
              "4                                                 김선우                      -   \n",
              "5                                                 박기현                      -   \n",
              "6                                                 이종원                      -   \n",
              "7                                                 주상영                      -   \n",
              "8              Angelo Kinicki , Denise Breaux Soignet                  김안드레아   \n",
              "9                                            문호석, 손명호                      -   \n",
              "10                                                김경곤                      -   \n",
              "11                                                우재남                      -   \n",
              "12                                                김지연                      -   \n",
              "13                                                홍장의                      -   \n",
              "14                                          John Bird                    이재원   \n",
              "15                                                이영주                      -   \n",
              "16                                                함남우                      -   \n",
              "17  Ferdinand P. Beer , E. Russell Johnston, Jr. ,...  김경식 , 박재균 , 오창국 , 이정휘   \n",
              "18                    ELIAS M. STEIN , RAMI SHAKARCHI    한빛수학교재연구소 , 이상혁(감수)   \n",
              "19                                          수학교재편찬위원회                      -   \n",
              "\n",
              "           출간일   쪽수    판매가  \n",
              "0   2022-08-05  680  34000  \n",
              "1   2022-07-22  556  36000  \n",
              "2   2022-07-18  636  32000  \n",
              "3   2022-07-11  588  30000  \n",
              "4   2022-06-30  600  32000  \n",
              "5   2022-06-30  676  30000  \n",
              "6   2022-06-30  800  34000  \n",
              "7   2022-06-30  640  36000  \n",
              "8   2022-06-30  800  39000  \n",
              "9   2022-06-26  432  23000  \n",
              "10  2022-06-25  456  29000  \n",
              "11  2022-06-23  504  28000  \n",
              "12  2022-06-20  456  20000  \n",
              "13  2022-06-10  528  33000  \n",
              "14  2022-06-10  432  25000  \n",
              "15  2022-05-20  512  30000  \n",
              "16  2022-05-02  484  22000  \n",
              "17  2022-03-22  772  39000  \n",
              "18  2022-03-18  348  38000  \n",
              "19  2022-03-04  680  35000  "
            ],
            "text/html": [
              "\n",
              "  <div id=\"df-deec9b44-1c4e-4377-b153-e00953c036cb\">\n",
              "    <div class=\"colab-df-container\">\n",
              "      <div>\n",
              "<style scoped>\n",
              "    .dataframe tbody tr th:only-of-type {\n",
              "        vertical-align: middle;\n",
              "    }\n",
              "\n",
              "    .dataframe tbody tr th {\n",
              "        vertical-align: top;\n",
              "    }\n",
              "\n",
              "    .dataframe thead th {\n",
              "        text-align: right;\n",
              "    }\n",
              "</style>\n",
              "<table border=\"1\" class=\"dataframe\">\n",
              "  <thead>\n",
              "    <tr style=\"text-align: right;\">\n",
              "      <th></th>\n",
              "      <th>제목</th>\n",
              "      <th>저자</th>\n",
              "      <th>번역</th>\n",
              "      <th>출간일</th>\n",
              "      <th>쪽수</th>\n",
              "      <th>판매가</th>\n",
              "    </tr>\n",
              "  </thead>\n",
              "  <tbody>\n",
              "    <tr>\n",
              "      <th>0</th>\n",
              "      <td>STEM CookBook, 문제 해결력을 키우는 기계설계</td>\n",
              "      <td>이상범</td>\n",
              "      <td>-</td>\n",
              "      <td>2022-08-05</td>\n",
              "      <td>680</td>\n",
              "      <td>34000</td>\n",
              "    </tr>\n",
              "    <tr>\n",
              "      <th>1</th>\n",
              "      <td>경영분석(6판)</td>\n",
              "      <td>장영광 , 송치승</td>\n",
              "      <td>-</td>\n",
              "      <td>2022-07-22</td>\n",
              "      <td>556</td>\n",
              "      <td>36000</td>\n",
              "    </tr>\n",
              "    <tr>\n",
              "      <th>2</th>\n",
              "      <td>IT CookBook, 기초부터 시작하는 PLC : OMRON NX</td>\n",
              "      <td>정완보 , 이진호</td>\n",
              "      <td>-</td>\n",
              "      <td>2022-07-18</td>\n",
              "      <td>636</td>\n",
              "      <td>32000</td>\n",
              "    </tr>\n",
              "    <tr>\n",
              "      <th>3</th>\n",
              "      <td>IT CookBook, 원리로 이해하는 전력전자공학(2판)</td>\n",
              "      <td>원충연 , 김영렬 , 이택기 , 류홍제 , 故정용채</td>\n",
              "      <td>-</td>\n",
              "      <td>2022-07-11</td>\n",
              "      <td>588</td>\n",
              "      <td>30000</td>\n",
              "    </tr>\n",
              "    <tr>\n",
              "      <th>4</th>\n",
              "      <td>IT CookBook, TCP/IP 소켓 프로그래밍(2판)</td>\n",
              "      <td>김선우</td>\n",
              "      <td>-</td>\n",
              "      <td>2022-06-30</td>\n",
              "      <td>600</td>\n",
              "      <td>32000</td>\n",
              "    </tr>\n",
              "    <tr>\n",
              "      <th>5</th>\n",
              "      <td>IT CookBook, 쉽게 배우는 데이터 통신과 컴퓨터 네트워크(3판)</td>\n",
              "      <td>박기현</td>\n",
              "      <td>-</td>\n",
              "      <td>2022-06-30</td>\n",
              "      <td>676</td>\n",
              "      <td>30000</td>\n",
              "    </tr>\n",
              "    <tr>\n",
              "      <th>6</th>\n",
              "      <td>IT CookBook, 우분투 리눅스(3판)</td>\n",
              "      <td>이종원</td>\n",
              "      <td>-</td>\n",
              "      <td>2022-06-30</td>\n",
              "      <td>800</td>\n",
              "      <td>34000</td>\n",
              "    </tr>\n",
              "    <tr>\n",
              "      <th>7</th>\n",
              "      <td>거시경제학(3판)</td>\n",
              "      <td>주상영</td>\n",
              "      <td>-</td>\n",
              "      <td>2022-06-30</td>\n",
              "      <td>640</td>\n",
              "      <td>36000</td>\n",
              "    </tr>\n",
              "    <tr>\n",
              "      <th>8</th>\n",
              "      <td>실용적 접근 방식의 경영학원론(10판)</td>\n",
              "      <td>Angelo Kinicki , Denise Breaux Soignet</td>\n",
              "      <td>김안드레아</td>\n",
              "      <td>2022-06-30</td>\n",
              "      <td>800</td>\n",
              "      <td>39000</td>\n",
              "    </tr>\n",
              "    <tr>\n",
              "      <th>9</th>\n",
              "      <td>IT CookBook, C로 시작하는 컴퓨터 프로그래밍(4판)</td>\n",
              "      <td>문호석, 손명호</td>\n",
              "      <td>-</td>\n",
              "      <td>2022-06-26</td>\n",
              "      <td>432</td>\n",
              "      <td>23000</td>\n",
              "    </tr>\n",
              "    <tr>\n",
              "      <th>10</th>\n",
              "      <td>IT CookBook, 인터넷 해킹과 보안(4판)</td>\n",
              "      <td>김경곤</td>\n",
              "      <td>-</td>\n",
              "      <td>2022-06-25</td>\n",
              "      <td>456</td>\n",
              "      <td>29000</td>\n",
              "    </tr>\n",
              "    <tr>\n",
              "      <th>11</th>\n",
              "      <td>IT CookBook, 파이썬 데이터 분석 for Beginner</td>\n",
              "      <td>우재남</td>\n",
              "      <td>-</td>\n",
              "      <td>2022-06-23</td>\n",
              "      <td>504</td>\n",
              "      <td>28000</td>\n",
              "    </tr>\n",
              "    <tr>\n",
              "      <th>12</th>\n",
              "      <td>IT CookBook, 엑셀 2019</td>\n",
              "      <td>김지연</td>\n",
              "      <td>-</td>\n",
              "      <td>2022-06-20</td>\n",
              "      <td>456</td>\n",
              "      <td>20000</td>\n",
              "    </tr>\n",
              "    <tr>\n",
              "      <th>13</th>\n",
              "      <td>IT CookBook, 소프트웨어 공학 이론과 실제</td>\n",
              "      <td>홍장의</td>\n",
              "      <td>-</td>\n",
              "      <td>2022-06-10</td>\n",
              "      <td>528</td>\n",
              "      <td>33000</td>\n",
              "    </tr>\n",
              "    <tr>\n",
              "      <th>14</th>\n",
              "      <td>공학도라면 반드시 알아야 할 최소한의 수학(8판)</td>\n",
              "      <td>John Bird</td>\n",
              "      <td>이재원</td>\n",
              "      <td>2022-06-10</td>\n",
              "      <td>432</td>\n",
              "      <td>25000</td>\n",
              "    </tr>\n",
              "    <tr>\n",
              "      <th>15</th>\n",
              "      <td>IT CookBook, UI/UX 디자인 이론과 실무 with 어도비 XD</td>\n",
              "      <td>이영주</td>\n",
              "      <td>-</td>\n",
              "      <td>2022-05-20</td>\n",
              "      <td>512</td>\n",
              "      <td>30000</td>\n",
              "    </tr>\n",
              "    <tr>\n",
              "      <th>16</th>\n",
              "      <td>STEM@CookBook, 공학 기초수학(2판)</td>\n",
              "      <td>함남우</td>\n",
              "      <td>-</td>\n",
              "      <td>2022-05-02</td>\n",
              "      <td>484</td>\n",
              "      <td>22000</td>\n",
              "    </tr>\n",
              "    <tr>\n",
              "      <th>17</th>\n",
              "      <td>STEM@CookBook, Beer의 정역학과 재료역학(3판)</td>\n",
              "      <td>Ferdinand P. Beer , E. Russell Johnston, Jr. ,...</td>\n",
              "      <td>김경식 , 박재균 , 오창국 , 이정휘</td>\n",
              "      <td>2022-03-22</td>\n",
              "      <td>772</td>\n",
              "      <td>39000</td>\n",
              "    </tr>\n",
              "    <tr>\n",
              "      <th>18</th>\n",
              "      <td>STEIN 푸리에 해석학</td>\n",
              "      <td>ELIAS M. STEIN , RAMI SHAKARCHI</td>\n",
              "      <td>한빛수학교재연구소 , 이상혁(감수)</td>\n",
              "      <td>2022-03-18</td>\n",
              "      <td>348</td>\n",
              "      <td>38000</td>\n",
              "    </tr>\n",
              "    <tr>\n",
              "      <th>19</th>\n",
              "      <td>미분적분학 : 기초부터 응용까지</td>\n",
              "      <td>수학교재편찬위원회</td>\n",
              "      <td>-</td>\n",
              "      <td>2022-03-04</td>\n",
              "      <td>680</td>\n",
              "      <td>35000</td>\n",
              "    </tr>\n",
              "  </tbody>\n",
              "</table>\n",
              "</div>\n",
              "      <button class=\"colab-df-convert\" onclick=\"convertToInteractive('df-deec9b44-1c4e-4377-b153-e00953c036cb')\"\n",
              "              title=\"Convert this dataframe to an interactive table.\"\n",
              "              style=\"display:none;\">\n",
              "        \n",
              "  <svg xmlns=\"http://www.w3.org/2000/svg\" height=\"24px\"viewBox=\"0 0 24 24\"\n",
              "       width=\"24px\">\n",
              "    <path d=\"M0 0h24v24H0V0z\" fill=\"none\"/>\n",
              "    <path d=\"M18.56 5.44l.94 2.06.94-2.06 2.06-.94-2.06-.94-.94-2.06-.94 2.06-2.06.94zm-11 1L8.5 8.5l.94-2.06 2.06-.94-2.06-.94L8.5 2.5l-.94 2.06-2.06.94zm10 10l.94 2.06.94-2.06 2.06-.94-2.06-.94-.94-2.06-.94 2.06-2.06.94z\"/><path d=\"M17.41 7.96l-1.37-1.37c-.4-.4-.92-.59-1.43-.59-.52 0-1.04.2-1.43.59L10.3 9.45l-7.72 7.72c-.78.78-.78 2.05 0 2.83L4 21.41c.39.39.9.59 1.41.59.51 0 1.02-.2 1.41-.59l7.78-7.78 2.81-2.81c.8-.78.8-2.07 0-2.86zM5.41 20L4 18.59l7.72-7.72 1.47 1.35L5.41 20z\"/>\n",
              "  </svg>\n",
              "      </button>\n",
              "      \n",
              "  <style>\n",
              "    .colab-df-container {\n",
              "      display:flex;\n",
              "      flex-wrap:wrap;\n",
              "      gap: 12px;\n",
              "    }\n",
              "\n",
              "    .colab-df-convert {\n",
              "      background-color: #E8F0FE;\n",
              "      border: none;\n",
              "      border-radius: 50%;\n",
              "      cursor: pointer;\n",
              "      display: none;\n",
              "      fill: #1967D2;\n",
              "      height: 32px;\n",
              "      padding: 0 0 0 0;\n",
              "      width: 32px;\n",
              "    }\n",
              "\n",
              "    .colab-df-convert:hover {\n",
              "      background-color: #E2EBFA;\n",
              "      box-shadow: 0px 1px 2px rgba(60, 64, 67, 0.3), 0px 1px 3px 1px rgba(60, 64, 67, 0.15);\n",
              "      fill: #174EA6;\n",
              "    }\n",
              "\n",
              "    [theme=dark] .colab-df-convert {\n",
              "      background-color: #3B4455;\n",
              "      fill: #D2E3FC;\n",
              "    }\n",
              "\n",
              "    [theme=dark] .colab-df-convert:hover {\n",
              "      background-color: #434B5C;\n",
              "      box-shadow: 0px 1px 3px 1px rgba(0, 0, 0, 0.15);\n",
              "      filter: drop-shadow(0px 1px 2px rgba(0, 0, 0, 0.3));\n",
              "      fill: #FFFFFF;\n",
              "    }\n",
              "  </style>\n",
              "\n",
              "      <script>\n",
              "        const buttonEl =\n",
              "          document.querySelector('#df-deec9b44-1c4e-4377-b153-e00953c036cb button.colab-df-convert');\n",
              "        buttonEl.style.display =\n",
              "          google.colab.kernel.accessAllowed ? 'block' : 'none';\n",
              "\n",
              "        async function convertToInteractive(key) {\n",
              "          const element = document.querySelector('#df-deec9b44-1c4e-4377-b153-e00953c036cb');\n",
              "          const dataTable =\n",
              "            await google.colab.kernel.invokeFunction('convertToInteractive',\n",
              "                                                     [key], {});\n",
              "          if (!dataTable) return;\n",
              "\n",
              "          const docLinkHtml = 'Like what you see? Visit the ' +\n",
              "            '<a target=\"_blank\" href=https://colab.research.google.com/notebooks/data_table.ipynb>data table notebook</a>'\n",
              "            + ' to learn more about interactive tables.';\n",
              "          element.innerHTML = '';\n",
              "          dataTable['output_type'] = 'display_data';\n",
              "          await google.colab.output.renderOutput(dataTable, element);\n",
              "          const docLink = document.createElement('div');\n",
              "          docLink.innerHTML = docLinkHtml;\n",
              "          element.appendChild(docLink);\n",
              "        }\n",
              "      </script>\n",
              "    </div>\n",
              "  </div>\n",
              "  "
            ]
          },
          "metadata": {},
          "execution_count": 24
        }
      ]
    },
    {
      "cell_type": "markdown",
      "source": [
        "### 5. 10페이지의 정보로 만들기"
      ],
      "metadata": {
        "id": "pZD79Mmpea29"
      }
    },
    {
      "cell_type": "code",
      "source": [
        "lines = []\n",
        "for page in tqdm(range(1,11)):\n",
        "  url = base_url + sub_url + '?page=' + str(page)\n",
        "  req = requests.get(url)\n",
        "  soup = BeautifulSoup(req.text,'html.parser')\n",
        "  lis = soup.select('li.sub_book_list')\n",
        "\n",
        "  for li in lis:\n",
        "    href = li.find('a')['href']\n",
        "    sub_req = requests.get(base_url + href)\n",
        "    sub_soup = BeautifulSoup(sub_req.text, 'html.parser')\n",
        "\n",
        "    title = sub_soup.select_one('.store_product_info_box > h3').get_text().strip()\n",
        "    info_lis = sub_soup.select('.info_list > li')\n",
        "    info_dict = {}\n",
        "    for li in info_lis:\n",
        "      key = li.find('strong').get_text().split(' ')[0]\n",
        "      val = li.find('span').get_text().strip()\n",
        "      info_dict[key] = val\n",
        "\n",
        "    author = info_dict['저자']\n",
        "    try:\n",
        "      translator = info_dict['번역']\n",
        "    except:\n",
        "      translator = '-'\n",
        "    date = info_dict['출간']\n",
        "    page = int(info_dict['페이지'].split(' ')[0].replace(',',''))\n",
        "    price = int(sub_soup.select_one('.pbr > strong').get_text().replace(',',''))\n",
        "    lines.append([title,author,translator,date,page,price])"
      ],
      "metadata": {
        "colab": {
          "base_uri": "https://localhost:8080/",
          "height": 49,
          "referenced_widgets": [
            "09b6dca0dcb2469f89c5f098b6e5735a",
            "1d1167cf906249d7bec1fead954d51d2",
            "ec56758461be4029910b4d43dd41eff3",
            "5ddd0f8eaa3747caa59c0dc4234779ec",
            "4150ffa3e6c14e9a87a08e4bd43af9a8",
            "b60a9945dfee4f8d897d14edf92adc42",
            "20362a35ea49465eababc107329885dc",
            "0d6cfe0658094ae0964c6b69a4f0cea7",
            "b23c24b0ac9c47e7b0dfe4537fa3f3ba",
            "8cce3964b0f74ad48f617e703f805b1d",
            "474bb4cf6e4b40cb8b2c3acd9323a573"
          ]
        },
        "id": "B6CD_tM-eSqA",
        "outputId": "5cb05ccf-858b-4912-f3a1-4714e81c1db5"
      },
      "execution_count": 25,
      "outputs": [
        {
          "output_type": "display_data",
          "data": {
            "text/plain": [
              "  0%|          | 0/10 [00:00<?, ?it/s]"
            ],
            "application/vnd.jupyter.widget-view+json": {
              "version_major": 2,
              "version_minor": 0,
              "model_id": "09b6dca0dcb2469f89c5f098b6e5735a"
            }
          },
          "metadata": {}
        }
      ]
    },
    {
      "cell_type": "markdown",
      "source": [
        "### 6. 데이터프레임 저장"
      ],
      "metadata": {
        "id": "kP83sTxYg_Of"
      }
    },
    {
      "cell_type": "code",
      "source": [
        "df = pd.DataFrame(lines, columns=['제목','저자','번역','출간일','쪽수','판매가'])\n",
        "df.tail(10)"
      ],
      "metadata": {
        "colab": {
          "base_uri": "https://localhost:8080/",
          "height": 363
        },
        "id": "wdTLLpL7fJRN",
        "outputId": "08f8ce36-9a48-4e00-b5e6-426a32d9da74"
      },
      "execution_count": 27,
      "outputs": [
        {
          "output_type": "execute_result",
          "data": {
            "text/plain": [
              "                                         제목                     저자         번역  \\\n",
              "190  IT CookBook , MySQL로 배우는 데이터베이스 개론과 실습        박우창 , 남송휘 , 이현룡          -   \n",
              "191                     그림으로 배우는 기초통계학(제4판)                    박상규          -   \n",
              "192           빅데이터 마케팅과의 융합을 위한 고객관계관리(제4판)        김승욱 , 강기두 , 김민철          -   \n",
              "193       IT CookBook, HTML5 웹 프로그래밍 입문(3판)                    윤인성          -   \n",
              "194            IT CookBook, 컴퓨터 활용과 실습 2016                    김주영          -   \n",
              "195                IT Cookbook, 처음 만나는 전자회로                    황형수          -   \n",
              "196                        스트랭 미분방정식과 선형대수학         Gilbert Strang  한빛수학교재연구소   \n",
              "197                IT CookBook, 네트워크 개론(3판)                    진혜진          -   \n",
              "198              IT CookBook, 텐서플로로 배우는 딥러닝  박혜정 , 석경하 , 심주용 , 황창하          -   \n",
              "199                 IT CookBook, 파워포인트 2016                    김지연          -   \n",
              "\n",
              "            출간일   쪽수    판매가  \n",
              "190  2019-08-15  572  27000  \n",
              "191  2019-08-10  410  27000  \n",
              "192  2019-08-10  376  26000  \n",
              "193  2019-07-20  488  26000  \n",
              "194  2019-07-15  520  24000  \n",
              "195  2019-07-10  440  24000  \n",
              "196  2019-07-09  552  30000  \n",
              "197  2019-07-05  516  25000  \n",
              "198  2019-06-30  448  27000  \n",
              "199  2019-06-29  420  19000  "
            ],
            "text/html": [
              "\n",
              "  <div id=\"df-8b6eab74-023e-47cd-9e24-229a4945b33d\">\n",
              "    <div class=\"colab-df-container\">\n",
              "      <div>\n",
              "<style scoped>\n",
              "    .dataframe tbody tr th:only-of-type {\n",
              "        vertical-align: middle;\n",
              "    }\n",
              "\n",
              "    .dataframe tbody tr th {\n",
              "        vertical-align: top;\n",
              "    }\n",
              "\n",
              "    .dataframe thead th {\n",
              "        text-align: right;\n",
              "    }\n",
              "</style>\n",
              "<table border=\"1\" class=\"dataframe\">\n",
              "  <thead>\n",
              "    <tr style=\"text-align: right;\">\n",
              "      <th></th>\n",
              "      <th>제목</th>\n",
              "      <th>저자</th>\n",
              "      <th>번역</th>\n",
              "      <th>출간일</th>\n",
              "      <th>쪽수</th>\n",
              "      <th>판매가</th>\n",
              "    </tr>\n",
              "  </thead>\n",
              "  <tbody>\n",
              "    <tr>\n",
              "      <th>190</th>\n",
              "      <td>IT CookBook , MySQL로 배우는 데이터베이스 개론과 실습</td>\n",
              "      <td>박우창 , 남송휘 , 이현룡</td>\n",
              "      <td>-</td>\n",
              "      <td>2019-08-15</td>\n",
              "      <td>572</td>\n",
              "      <td>27000</td>\n",
              "    </tr>\n",
              "    <tr>\n",
              "      <th>191</th>\n",
              "      <td>그림으로 배우는 기초통계학(제4판)</td>\n",
              "      <td>박상규</td>\n",
              "      <td>-</td>\n",
              "      <td>2019-08-10</td>\n",
              "      <td>410</td>\n",
              "      <td>27000</td>\n",
              "    </tr>\n",
              "    <tr>\n",
              "      <th>192</th>\n",
              "      <td>빅데이터 마케팅과의 융합을 위한 고객관계관리(제4판)</td>\n",
              "      <td>김승욱 , 강기두 , 김민철</td>\n",
              "      <td>-</td>\n",
              "      <td>2019-08-10</td>\n",
              "      <td>376</td>\n",
              "      <td>26000</td>\n",
              "    </tr>\n",
              "    <tr>\n",
              "      <th>193</th>\n",
              "      <td>IT CookBook, HTML5 웹 프로그래밍 입문(3판)</td>\n",
              "      <td>윤인성</td>\n",
              "      <td>-</td>\n",
              "      <td>2019-07-20</td>\n",
              "      <td>488</td>\n",
              "      <td>26000</td>\n",
              "    </tr>\n",
              "    <tr>\n",
              "      <th>194</th>\n",
              "      <td>IT CookBook, 컴퓨터 활용과 실습 2016</td>\n",
              "      <td>김주영</td>\n",
              "      <td>-</td>\n",
              "      <td>2019-07-15</td>\n",
              "      <td>520</td>\n",
              "      <td>24000</td>\n",
              "    </tr>\n",
              "    <tr>\n",
              "      <th>195</th>\n",
              "      <td>IT Cookbook, 처음 만나는 전자회로</td>\n",
              "      <td>황형수</td>\n",
              "      <td>-</td>\n",
              "      <td>2019-07-10</td>\n",
              "      <td>440</td>\n",
              "      <td>24000</td>\n",
              "    </tr>\n",
              "    <tr>\n",
              "      <th>196</th>\n",
              "      <td>스트랭 미분방정식과 선형대수학</td>\n",
              "      <td>Gilbert Strang</td>\n",
              "      <td>한빛수학교재연구소</td>\n",
              "      <td>2019-07-09</td>\n",
              "      <td>552</td>\n",
              "      <td>30000</td>\n",
              "    </tr>\n",
              "    <tr>\n",
              "      <th>197</th>\n",
              "      <td>IT CookBook, 네트워크 개론(3판)</td>\n",
              "      <td>진혜진</td>\n",
              "      <td>-</td>\n",
              "      <td>2019-07-05</td>\n",
              "      <td>516</td>\n",
              "      <td>25000</td>\n",
              "    </tr>\n",
              "    <tr>\n",
              "      <th>198</th>\n",
              "      <td>IT CookBook, 텐서플로로 배우는 딥러닝</td>\n",
              "      <td>박혜정 , 석경하 , 심주용 , 황창하</td>\n",
              "      <td>-</td>\n",
              "      <td>2019-06-30</td>\n",
              "      <td>448</td>\n",
              "      <td>27000</td>\n",
              "    </tr>\n",
              "    <tr>\n",
              "      <th>199</th>\n",
              "      <td>IT CookBook, 파워포인트 2016</td>\n",
              "      <td>김지연</td>\n",
              "      <td>-</td>\n",
              "      <td>2019-06-29</td>\n",
              "      <td>420</td>\n",
              "      <td>19000</td>\n",
              "    </tr>\n",
              "  </tbody>\n",
              "</table>\n",
              "</div>\n",
              "      <button class=\"colab-df-convert\" onclick=\"convertToInteractive('df-8b6eab74-023e-47cd-9e24-229a4945b33d')\"\n",
              "              title=\"Convert this dataframe to an interactive table.\"\n",
              "              style=\"display:none;\">\n",
              "        \n",
              "  <svg xmlns=\"http://www.w3.org/2000/svg\" height=\"24px\"viewBox=\"0 0 24 24\"\n",
              "       width=\"24px\">\n",
              "    <path d=\"M0 0h24v24H0V0z\" fill=\"none\"/>\n",
              "    <path d=\"M18.56 5.44l.94 2.06.94-2.06 2.06-.94-2.06-.94-.94-2.06-.94 2.06-2.06.94zm-11 1L8.5 8.5l.94-2.06 2.06-.94-2.06-.94L8.5 2.5l-.94 2.06-2.06.94zm10 10l.94 2.06.94-2.06 2.06-.94-2.06-.94-.94-2.06-.94 2.06-2.06.94z\"/><path d=\"M17.41 7.96l-1.37-1.37c-.4-.4-.92-.59-1.43-.59-.52 0-1.04.2-1.43.59L10.3 9.45l-7.72 7.72c-.78.78-.78 2.05 0 2.83L4 21.41c.39.39.9.59 1.41.59.51 0 1.02-.2 1.41-.59l7.78-7.78 2.81-2.81c.8-.78.8-2.07 0-2.86zM5.41 20L4 18.59l7.72-7.72 1.47 1.35L5.41 20z\"/>\n",
              "  </svg>\n",
              "      </button>\n",
              "      \n",
              "  <style>\n",
              "    .colab-df-container {\n",
              "      display:flex;\n",
              "      flex-wrap:wrap;\n",
              "      gap: 12px;\n",
              "    }\n",
              "\n",
              "    .colab-df-convert {\n",
              "      background-color: #E8F0FE;\n",
              "      border: none;\n",
              "      border-radius: 50%;\n",
              "      cursor: pointer;\n",
              "      display: none;\n",
              "      fill: #1967D2;\n",
              "      height: 32px;\n",
              "      padding: 0 0 0 0;\n",
              "      width: 32px;\n",
              "    }\n",
              "\n",
              "    .colab-df-convert:hover {\n",
              "      background-color: #E2EBFA;\n",
              "      box-shadow: 0px 1px 2px rgba(60, 64, 67, 0.3), 0px 1px 3px 1px rgba(60, 64, 67, 0.15);\n",
              "      fill: #174EA6;\n",
              "    }\n",
              "\n",
              "    [theme=dark] .colab-df-convert {\n",
              "      background-color: #3B4455;\n",
              "      fill: #D2E3FC;\n",
              "    }\n",
              "\n",
              "    [theme=dark] .colab-df-convert:hover {\n",
              "      background-color: #434B5C;\n",
              "      box-shadow: 0px 1px 3px 1px rgba(0, 0, 0, 0.15);\n",
              "      filter: drop-shadow(0px 1px 2px rgba(0, 0, 0, 0.3));\n",
              "      fill: #FFFFFF;\n",
              "    }\n",
              "  </style>\n",
              "\n",
              "      <script>\n",
              "        const buttonEl =\n",
              "          document.querySelector('#df-8b6eab74-023e-47cd-9e24-229a4945b33d button.colab-df-convert');\n",
              "        buttonEl.style.display =\n",
              "          google.colab.kernel.accessAllowed ? 'block' : 'none';\n",
              "\n",
              "        async function convertToInteractive(key) {\n",
              "          const element = document.querySelector('#df-8b6eab74-023e-47cd-9e24-229a4945b33d');\n",
              "          const dataTable =\n",
              "            await google.colab.kernel.invokeFunction('convertToInteractive',\n",
              "                                                     [key], {});\n",
              "          if (!dataTable) return;\n",
              "\n",
              "          const docLinkHtml = 'Like what you see? Visit the ' +\n",
              "            '<a target=\"_blank\" href=https://colab.research.google.com/notebooks/data_table.ipynb>data table notebook</a>'\n",
              "            + ' to learn more about interactive tables.';\n",
              "          element.innerHTML = '';\n",
              "          dataTable['output_type'] = 'display_data';\n",
              "          await google.colab.output.renderOutput(dataTable, element);\n",
              "          const docLink = document.createElement('div');\n",
              "          docLink.innerHTML = docLinkHtml;\n",
              "          element.appendChild(docLink);\n",
              "        }\n",
              "      </script>\n",
              "    </div>\n",
              "  </div>\n",
              "  "
            ]
          },
          "metadata": {},
          "execution_count": 27
        }
      ]
    },
    {
      "cell_type": "code",
      "source": [
        "df.to_csv('한빛신간도서(220808).csv',index=False)"
      ],
      "metadata": {
        "id": "YRPryLn6hH3W"
      },
      "execution_count": 28,
      "outputs": []
    },
    {
      "cell_type": "code",
      "source": [
        ""
      ],
      "metadata": {
        "id": "4a8zzAY2hYy5"
      },
      "execution_count": null,
      "outputs": []
    }
  ]
}