{
 "cells": [
  {
   "cell_type": "code",
   "execution_count": 1,
   "metadata": {},
   "outputs": [],
   "source": [
    "import requests\n",
    "from urllib.parse import quote"
   ]
  },
  {
   "cell_type": "code",
   "execution_count": 2,
   "metadata": {},
   "outputs": [
    {
     "ename": "ModuleNotFoundError",
     "evalue": "No module named 'google.colab'",
     "output_type": "error",
     "traceback": [
      "\u001b[1;31m---------------------------------------------------------------------------\u001b[0m",
      "\u001b[1;31mModuleNotFoundError\u001b[0m                       Traceback (most recent call last)",
      "\u001b[1;32mc:\\Workspace\\01.PythonWeb\\03.지도시각화\\02_도로명주소.ipynb 셀 2\u001b[0m in \u001b[0;36m<cell line: 1>\u001b[1;34m()\u001b[0m\n\u001b[1;32m----> <a href='vscode-notebook-cell:/c%3A/Workspace/01.PythonWeb/03.%EC%A7%80%EB%8F%84%EC%8B%9C%EA%B0%81%ED%99%94/02_%EB%8F%84%EB%A1%9C%EB%AA%85%EC%A3%BC%EC%86%8C.ipynb#W1sZmlsZQ%3D%3D?line=0'>1</a>\u001b[0m \u001b[39mfrom\u001b[39;00m \u001b[39mgoogle\u001b[39;00m\u001b[39m.\u001b[39;00m\u001b[39mcolab\u001b[39;00m \u001b[39mimport\u001b[39;00m files\n\u001b[0;32m      <a href='vscode-notebook-cell:/c%3A/Workspace/01.PythonWeb/03.%EC%A7%80%EB%8F%84%EC%8B%9C%EA%B0%81%ED%99%94/02_%EB%8F%84%EB%A1%9C%EB%AA%85%EC%A3%BC%EC%86%8C.ipynb#W1sZmlsZQ%3D%3D?line=1'>2</a>\u001b[0m up \u001b[39m=\u001b[39m files\u001b[39m.\u001b[39mupload()\n",
      "\u001b[1;31mModuleNotFoundError\u001b[0m: No module named 'google.colab'"
     ]
    }
   ],
   "source": [
    "import files\n",
    "up = files.upload()"
   ]
  }
 ],
 "metadata": {
  "kernelspec": {
   "display_name": "Python 3.9.12 ('base')",
   "language": "python",
   "name": "python3"
  },
  "language_info": {
   "codemirror_mode": {
    "name": "ipython",
    "version": 3
   },
   "file_extension": ".py",
   "mimetype": "text/x-python",
   "name": "python",
   "nbconvert_exporter": "python",
   "pygments_lexer": "ipython3",
   "version": "3.9.12"
  },
  "orig_nbformat": 4,
  "vscode": {
   "interpreter": {
    "hash": "a67f7c0eb759659cd8c698906b7ba323001d35322a8ec59f7633b0364e0bb545"
   }
  }
 },
 "nbformat": 4,
 "nbformat_minor": 2
}
